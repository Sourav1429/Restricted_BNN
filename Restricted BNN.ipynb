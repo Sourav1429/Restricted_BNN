{
 "cells": [
  {
   "cell_type": "code",
   "execution_count": 68,
   "metadata": {},
   "outputs": [],
   "source": [
    "import numpy as np\n",
    "from matplotlib import pyplot as plt\n",
    "from tqdm import tqdm"
   ]
  },
  {
   "cell_type": "code",
   "execution_count": 69,
   "metadata": {},
   "outputs": [],
   "source": [
    "def one_hot(y,n_output):\n",
    "    y_ret = [];\n",
    "    for i in y:\n",
    "        val = np.zeros(n_output)\n",
    "        val[i] = 1;\n",
    "        y_ret.append(val);\n",
    "    return np.array(y_ret)"
   ]
  },
  {
   "cell_type": "code",
   "execution_count": 70,
   "metadata": {},
   "outputs": [],
   "source": [
    "def gen_weights(mu_mat,layer_wise_neurons,sigma):\n",
    "    l = len(mu_mat)\n",
    "    weights_by_layer = dict()\n",
    "    for i in range(l):\n",
    "        #print(type(i))\n",
    "        #print(layer_wise_neurons)\n",
    "        weights = np.zeros((layer_wise_neurons[i],layer_wise_neurons[i+1]))\n",
    "        for j in range(layer_wise_neurons[i+1]):\n",
    "            weights[:,j] = np.random.normal(mu_mat[i][j],sigma[i][j],layer_wise_neurons[i])\n",
    "            weights[:,j] = weights[:,j]\n",
    "        weights_by_layer[i] = weights\n",
    "    return weights_by_layer"
   ]
  },
  {
   "cell_type": "code",
   "execution_count": 71,
   "metadata": {},
   "outputs": [],
   "source": [
    "def activation(s,type_= 0):\n",
    "    if(type_==1):\n",
    "        return 1/(1+np.exp(-s))\n",
    "    else:\n",
    "        return np.where(s>=0,s,0)\n",
    "def forward(weights_by_layers,x):\n",
    "    l = len(weights_by_layers)\n",
    "    a = x\n",
    "    collected_weights = dict()\n",
    "    for i in range(l):\n",
    "        w = weights_by_layers[i]\n",
    "        #print(w)\n",
    "        #print(\"=======ok now========\")\n",
    "        #print(a)\n",
    "        z = np.matmul(w.T,a)\n",
    "        a = activation(z,1)\n",
    "        #collected_weights[i] = a\n",
    "    return a"
   ]
  },
  {
   "cell_type": "code",
   "execution_count": 72,
   "metadata": {},
   "outputs": [],
   "source": [
    "def update(mu_mat,store,tot_err,chosen_index):\n",
    "    val = np.sum(tot_err[chosen_index])\n",
    "    mu_mat = (1-gamma)*mu_mat\n",
    "    #print(\"chosen index:\",chosen_index[0])\n",
    "    #chosen_index = chosen_index[0]\n",
    "    for i in range(len(chosen_index)):\n",
    "        weights_dist = store[chosen_index[i]]\n",
    "        err = tot_err[chosen_index[i]]\n",
    "        #print(\"Error:\",tot_err)\n",
    "        for x in weights_dist:\n",
    "            weights_dist[x] = weights_dist[x]*err/val\n",
    "            mu_new = np.mean(weights_dist[x],axis=0)\n",
    "            mu_mat[x] = mu_mat[x] + gamma*mu_new\n",
    "    return mu_mat"
   ]
  },
  {
   "cell_type": "code",
   "execution_count": 97,
   "metadata": {},
   "outputs": [],
   "source": [
    "class RBNN:\n",
    "    def __init__(self,n_layers,mu_mat,nj_list,rho,alyer_wise_neurons,sigma):\n",
    "        self.n_layers = n_layers\n",
    "        self.mu_mat = mu_mat\n",
    "        self.nj_list = nj_list\n",
    "        self.rho = rho\n",
    "        self.layer_wise_neurons = alyer_wise_neurons\n",
    "        self.sigma_mat = sigma\n",
    "    def activation(self,s):\n",
    "        return np.where(s>=0,s,0)\n",
    "    def error(self,y,y_hat):\n",
    "        return -np.dot(y,np.log(y_hat))       \n",
    "    def CEO(self,nj):\n",
    "        store=[];tot_err=[];acc_list = []\n",
    "        for j in range(nj):\n",
    "            weights_by_layer = gen_weights(self.mu_mat,self.layer_wise_neurons,self.sigma_mat)\n",
    "            store.append(weights_by_layer)\n",
    "            error = 0\n",
    "            acc = 0;\n",
    "            for (x,y) in zip(self.X,self.y_):\n",
    "                y_hat = forward(weights_by_layer,x)\n",
    "                #print(\"Predicted:\",y_hat)\n",
    "                error = error + np.sum(self.error(y,y_hat))\n",
    "                #print(\"predicted:\",y_hat,\"actual:\",y)\n",
    "                #input()\n",
    "                acc = acc+ (np.argmax(y_hat)==np.argmax(y))\n",
    "                #print(\"Yhat,error,acc:\",y_hat,error,acc)\n",
    "                #input()\n",
    "            tot_err.append(error/len(self.y_))\n",
    "            acc_list.append(acc)\n",
    "        acc_list,tot_err = np.array(acc_list),np.array(tot_err)\n",
    "        #print(np.sort(tot_err))\n",
    "        #print(np.argsort(tot_err))\n",
    "        chosen_index = np.argsort(tot_err)[0:int(self.rho*nj)]\n",
    "        #print(\"first chosen index\",chosen_index)\n",
    "        self.mu_mat = update(self.mu_mat,store,tot_err,chosen_index)\n",
    "        print(\"Mean matrix:\",self.mu_mat)\n",
    "        return np.mean(tot_err[chosen_index]),np.mean(acc_list[chosen_index])\n",
    "    def train(self,X,y_):\n",
    "        self.X = X\n",
    "        self.y_ = y_\n",
    "        err_plot,acc_plot=[],[]\n",
    "        for nj in tqdm(nj_list):\n",
    "            train_err,acc = self.CEO(nj)\n",
    "            print(\"Train error {}\".format(train_err))\n",
    "            err_plot.append(train_err)\n",
    "            acc_plot.append(acc)\n",
    "        #print(\"Before returning:\",self.mu_mat)\n",
    "        return err_plot,acc_plot,self.mu_mat,self.sigma_mat\n",
    "    def predict(self,X,y_):\n",
    "        weights_by_layer = gen_weights(self.mu_mat,self.layer_wise_neurons,self.sigma_mat)\n",
    "        print(\"weights: by :\",weights_by_layer)\n",
    "        print(\"input:\",X)\n",
    "        y_hat = forward(weights_by_layer,X)\n",
    "        print(\"Actual output:{} and predicted ouput:{}\".format(np.argmax(y_),np.argmax(y_hat)))"
   ]
  },
  {
   "cell_type": "markdown",
   "metadata": {},
   "source": [
    "# PULSAR TESTING"
   ]
  },
  {
   "cell_type": "code",
   "execution_count": 113,
   "metadata": {},
   "outputs": [
    {
     "name": "stdout",
     "output_type": "stream",
     "text": [
      "[[0. 0.]\n",
      " [0. 0.]\n",
      " [0. 0.]]\n"
     ]
    }
   ],
   "source": [
    "##Declaring hyperparameters\n",
    "gamma = 0.8\n",
    "nj_list = np.arange(10,400,10)\n",
    "rho = 0.1\n",
    "n_features = 3\n",
    "n_output = 2\n",
    "layer_wise_neurons = [n_features,2,2,n_output]\n",
    "mu_mat = []\n",
    "sigma_mat = []\n",
    "for i in range(len(layer_wise_neurons)-1):\n",
    "    mu_mat.append(np.ones(layer_wise_neurons[i+1])*0)\n",
    "    sigma_mat.append(np.ones(layer_wise_neurons[i+1]))\n",
    "mu_mat = np.array(mu_mat)\n",
    "sigma_mat = np.array(sigma_mat)\n",
    "#X = np.array([[0.1,0.2,0.3],\n",
    "#              [5,6,7]])\n",
    "#y = np.array([[0],[1]])\n",
    "print(mu_mat)"
   ]
  },
  {
   "cell_type": "code",
   "execution_count": 114,
   "metadata": {},
   "outputs": [],
   "source": [
    "import pandas as pd\n",
    "from sklearn.preprocessing import StandardScaler\n",
    "path = \"D://datasets//Pulsar//Pulsar_reduced.xlsx\"\n",
    "data = pd.read_excel(path)\n",
    "y = data['label'].to_numpy()\n",
    "X = data.drop(['label'],axis=1).to_numpy()\n",
    "scaler = StandardScaler()\n",
    "X_new = scaler.fit_transform(X)\n",
    "y = one_hot(y,n_output)"
   ]
  },
  {
   "cell_type": "code",
   "execution_count": 115,
   "metadata": {},
   "outputs": [
    {
     "name": "stderr",
     "output_type": "stream",
     "text": [
      " 10%|████████▎                                                                          | 1/10 [00:41<06:15, 41.76s/it]"
     ]
    },
    {
     "name": "stdout",
     "output_type": "stream",
     "text": [
      "Mean matrix: [[-0.00925002  0.06816611]\n",
      " [ 0.20712929 -0.00822678]\n",
      " [ 0.87717086  0.12018392]]\n",
      "Train error 0.2919544718478633\n"
     ]
    },
    {
     "name": "stderr",
     "output_type": "stream",
     "text": [
      " 20%|████████████████▌                                                                  | 2/10 [01:43<07:10, 53.75s/it]"
     ]
    },
    {
     "name": "stdout",
     "output_type": "stream",
     "text": [
      "Mean matrix: [[0.15779008 0.11511916]\n",
      " [0.47557907 0.36546361]\n",
      " [1.69992571 0.23101465]]\n",
      "Train error 0.1403341112866251\n"
     ]
    },
    {
     "name": "stderr",
     "output_type": "stream",
     "text": [
      " 30%|████████████████████████▉                                                          | 3/10 [03:17<08:24, 72.03s/it]"
     ]
    },
    {
     "name": "stdout",
     "output_type": "stream",
     "text": [
      "Mean matrix: [[ 0.14564038 -0.10082359]\n",
      " [ 0.52223755  0.84205302]\n",
      " [ 2.48993154  0.66887111]]\n",
      "Train error 0.05447728559480033\n"
     ]
    },
    {
     "name": "stderr",
     "output_type": "stream",
     "text": [
      " 40%|█████████████████████████████████▏                                                 | 4/10 [05:03<08:32, 85.48s/it]"
     ]
    },
    {
     "name": "stdout",
     "output_type": "stream",
     "text": [
      "Mean matrix: [[ 0.21515419 -0.18742346]\n",
      " [ 0.81919614  1.00926278]\n",
      " [ 3.02022869  1.08141935]]\n",
      "Train error 0.030444035400385653\n"
     ]
    },
    {
     "name": "stderr",
     "output_type": "stream",
     "text": [
      " 50%|█████████████████████████████████████████                                         | 5/10 [07:15<08:31, 102.23s/it]"
     ]
    },
    {
     "name": "stdout",
     "output_type": "stream",
     "text": [
      "Mean matrix: [[ 0.07927049 -0.21371062]\n",
      " [ 1.11878882  1.28339315]\n",
      " [ 3.47436923  1.68020329]]\n",
      "Train error 0.01152806267462657\n"
     ]
    },
    {
     "name": "stderr",
     "output_type": "stream",
     "text": [
      " 60%|█████████████████████████████████████████████████▏                                | 6/10 [09:42<07:49, 117.28s/it]"
     ]
    },
    {
     "name": "stdout",
     "output_type": "stream",
     "text": [
      "Mean matrix: [[ 0.17578792 -0.33260289]\n",
      " [ 1.44544119  1.51094549]\n",
      " [ 4.03958566  2.28231628]]\n",
      "Train error 0.0034999917013962844\n"
     ]
    },
    {
     "name": "stderr",
     "output_type": "stream",
     "text": [
      " 70%|█████████████████████████████████████████████████████████▍                        | 7/10 [12:28<06:39, 133.30s/it]"
     ]
    },
    {
     "name": "stdout",
     "output_type": "stream",
     "text": [
      "Mean matrix: [[ 0.23471008 -0.30307695]\n",
      " [ 1.96291925  1.76653852]\n",
      " [ 4.51068435  2.77334786]]\n",
      "Train error 0.0013061366049403485\n"
     ]
    },
    {
     "name": "stderr",
     "output_type": "stream",
     "text": [
      " 80%|█████████████████████████████████████████████████████████████████▌                | 8/10 [15:39<05:03, 151.80s/it]"
     ]
    },
    {
     "name": "stdout",
     "output_type": "stream",
     "text": [
      "Mean matrix: [[ 0.23687852 -0.33853039]\n",
      " [ 2.1616838   1.97987743]\n",
      " [ 4.97316894  3.41464366]]\n",
      "Train error 0.00047440337446964434\n"
     ]
    },
    {
     "name": "stderr",
     "output_type": "stream",
     "text": [
      " 90%|█████████████████████████████████████████████████████████████████████████▊        | 9/10 [19:21<02:53, 173.55s/it]"
     ]
    },
    {
     "name": "stdout",
     "output_type": "stream",
     "text": [
      "Mean matrix: [[ 0.25418338 -0.23613172]\n",
      " [ 2.33663202  2.24126112]\n",
      " [ 5.38096433  3.94153905]]\n",
      "Train error 0.00017175974042113503\n"
     ]
    },
    {
     "name": "stderr",
     "output_type": "stream",
     "text": [
      "100%|█████████████████████████████████████████████████████████████████████████████████| 10/10 [23:29<00:00, 140.97s/it]"
     ]
    },
    {
     "name": "stdout",
     "output_type": "stream",
     "text": [
      "Mean matrix: [[ 0.37108269 -0.1548134 ]\n",
      " [ 2.67406912  2.36251707]\n",
      " [ 5.82106703  4.39328733]]\n",
      "Train error 5.5285138972066605e-05\n"
     ]
    },
    {
     "name": "stderr",
     "output_type": "stream",
     "text": [
      "\n"
     ]
    }
   ],
   "source": [
    "nj_list = np.arange(100,600,50)\n",
    "model2 = RBNN(len(layer_wise_neurons),mu_mat,nj_list,rho,layer_wise_neurons,sigma_mat)\n",
    "err_plot,acc_plot,mu_mat,sigma_mat = model2.train(X_new,y)"
   ]
  },
  {
   "cell_type": "code",
   "execution_count": 121,
   "metadata": {},
   "outputs": [],
   "source": [
    "loss_dictionary={'RBNN':err_plot}\n",
    "df = pd.DataFrame(loss_dictionary)\n",
    "df.to_excel('Pulsar_Loss_Restricted_BNN.xlsx')"
   ]
  },
  {
   "cell_type": "code",
   "execution_count": 120,
   "metadata": {},
   "outputs": [
    {
     "name": "stdout",
     "output_type": "stream",
     "text": [
      "[ 762 5757 3418 3960 9276 9059 1315 1844 6165 2566]\n",
      "weights: by : {0: array([[-0.44979298, -1.35410743],\n",
      "       [-1.86347617, -0.68360565],\n",
      "       [ 2.97712438, -0.56025894]]), 1: array([[2.30567238, 1.32010273],\n",
      "       [2.45627999, 2.92038408]]), 2: array([[5.9596366 , 4.48835339],\n",
      "       [6.66687662, 3.85361663]])}\n",
      "input: [-1.52121289 -0.60428945 -1.0110199 ]\n",
      "Actual output:0 and predicted ouput:0\n",
      "weights: by : {0: array([[-0.7121372 , -0.10972797],\n",
      "       [ 0.83249864, -1.35394389],\n",
      "       [-0.66986958,  0.83625737]]), 1: array([[0.93111636, 2.76246943],\n",
      "       [2.68203076, 4.74079205]]), 2: array([[4.9504538 , 6.23102158],\n",
      "       [4.10742335, 3.16634137]])}\n",
      "input: [-0.14005168  0.3597898  -0.13522812]\n",
      "Actual output:0 and predicted ouput:1\n",
      "weights: by : {0: array([[-0.06246186, -1.04813296],\n",
      "       [-0.30921512,  0.18781475],\n",
      "       [ 1.80945279, -0.58565685]]), 1: array([[1.97160969, 2.3006509 ],\n",
      "       [3.36591271, 0.88916423]]), 2: array([[5.00551104, 6.10655519],\n",
      "       [7.3766922 , 3.32780913]])}\n",
      "input: [-0.78680565 -0.88755212 -0.39828026]\n",
      "Actual output:0 and predicted ouput:0\n",
      "weights: by : {0: array([[ 1.50989522, -0.7254458 ],\n",
      "       [ 0.04249831, -1.14864144],\n",
      "       [ 0.92838594, -0.28502859]]), 1: array([[2.72903116, 1.30506571],\n",
      "       [1.86983612, 3.40532102]]), 2: array([[6.3876754 , 3.47207954],\n",
      "       [6.70776458, 5.73864153]])}\n",
      "input: [-0.63693791 -0.15897639 -0.22276709]\n",
      "Actual output:0 and predicted ouput:0\n",
      "weights: by : {0: array([[ 0.1529925 , -0.42046949],\n",
      "       [-0.3635833 , -1.27101373],\n",
      "       [ 1.15027031,  0.8852534 ]]), 1: array([[2.25896958, 1.78324154],\n",
      "       [2.18614508, 3.22200015]]), 2: array([[7.68738396, 4.56443033],\n",
      "       [6.427445  , 6.67805586]])}\n",
      "input: [ 0.83298261 -0.24481127 -0.86692257]\n",
      "Actual output:0 and predicted ouput:0\n",
      "weights: by : {0: array([[ 1.22187485, -1.12910916],\n",
      "       [ 0.03608696, -0.29395853],\n",
      "       [-1.0501436 ,  0.14664877]]), 1: array([[0.808171  , 2.99299442],\n",
      "       [3.87570483, 2.38848141]]), 2: array([[6.99982124, 5.52731206],\n",
      "       [6.8456968 , 3.6367882 ]])}\n",
      "input: [ 0.77298021 -0.9191892  -0.4081546 ]\n",
      "Actual output:0 and predicted ouput:0\n",
      "weights: by : {0: array([[ 2.90630154,  0.47097667],\n",
      "       [ 1.69458261,  0.57503075],\n",
      "       [ 1.85627252, -0.0150659 ]]), 1: array([[1.85051276, 2.89200357],\n",
      "       [1.62653348, 1.69663436]]), 2: array([[4.44516843, 3.3905073 ],\n",
      "       [5.35253562, 4.75630056]])}\n",
      "input: [-1.36830355  0.3271406  -0.1699818 ]\n",
      "Actual output:0 and predicted ouput:0\n",
      "weights: by : {0: array([[-1.3261703 , -0.30786077],\n",
      "       [ 0.64538823, -0.32651616],\n",
      "       [ 0.18494534, -0.04777987]]), 1: array([[2.66318375, 1.41408927],\n",
      "       [3.04412397, 1.32826981]]), 2: array([[7.55871   , 3.53704138],\n",
      "       [6.09886544, 4.64833047]])}\n",
      "input: [-1.22203042  0.07977236 -0.81032772]\n",
      "Actual output:0 and predicted ouput:0\n",
      "weights: by : {0: array([[ 2.33196934, -0.82085953],\n",
      "       [-0.29547186, -0.32946832],\n",
      "       [-0.1685892 ,  1.11219762]]), 1: array([[2.10314131, 2.62675817],\n",
      "       [3.29235135, 2.9802199 ]]), 2: array([[4.08995892, 5.32787309],\n",
      "       [5.80279302, 5.71300185]])}\n",
      "input: [-0.02723611 -0.55325297 -0.30578419]\n",
      "Actual output:0 and predicted ouput:1\n",
      "weights: by : {0: array([[-1.20967958, -0.49923842],\n",
      "       [-0.6973942 ,  0.20263211],\n",
      "       [-0.69495086,  0.38172383]]), 1: array([[3.29427772, 1.83565022],\n",
      "       [1.46373763, 0.98808626]]), 2: array([[5.33407514, 2.60212279],\n",
      "       [6.03536232, 4.45550582]])}\n",
      "input: [-1.0223911   2.67772937  0.61095307]\n",
      "Actual output:0 and predicted ouput:0\n"
     ]
    }
   ],
   "source": [
    "choice = np.random.choice(len(X_new),(1,10))[0]\n",
    "print(choice)\n",
    "for i in choice:\n",
    "    model2.predict(X_new[i],y[i])"
   ]
  },
  {
   "cell_type": "code",
   "execution_count": 123,
   "metadata": {},
   "outputs": [
    {
     "name": "stdout",
     "output_type": "stream",
     "text": [
      "Accuracy: 0.922014687100894\n"
     ]
    }
   ],
   "source": [
    "total_accuracy = 0\n",
    "for i in X_new:\n",
    "    weights_by_layer = gen_weights(mu_mat,layer_wise_neurons,sigma_mat)\n",
    "    y_hat = forward(weights_by_layer,i)\n",
    "    total_accuracy = total_accuracy + (np.argmax(y_hat)==np.argmax(y))\n",
    "print(\"Accuracy:\",total_accuracy/len(X_new))"
   ]
  },
  {
   "cell_type": "markdown",
   "metadata": {},
   "source": [
    "# IRIS TESTING"
   ]
  },
  {
   "cell_type": "code",
   "execution_count": 105,
   "metadata": {},
   "outputs": [
    {
     "name": "stderr",
     "output_type": "stream",
     "text": [
      "D:\\anaconda\\lib\\site-packages\\ipykernel_launcher.py:22: VisibleDeprecationWarning: Creating an ndarray from ragged nested sequences (which is a list-or-tuple of lists-or-tuples-or ndarrays with different lengths or shapes) is deprecated. If you meant to do this, you must specify 'dtype=object' when creating the ndarray\n",
      "D:\\anaconda\\lib\\site-packages\\ipykernel_launcher.py:23: VisibleDeprecationWarning: Creating an ndarray from ragged nested sequences (which is a list-or-tuple of lists-or-tuples-or ndarrays with different lengths or shapes) is deprecated. If you meant to do this, you must specify 'dtype=object' when creating the ndarray\n",
      "  4%|███▎                                                                               | 1/25 [00:00<00:12,  1.95it/s]"
     ]
    },
    {
     "name": "stdout",
     "output_type": "stream",
     "text": [
      "Mean matrix: [array([-0.03840415,  0.07841919]) array([0.08610812, 0.12798007])\n",
      " array([0.14789558, 0.34874182, 0.18671871])]\n",
      "Train error 0.4827631815620031\n"
     ]
    },
    {
     "name": "stderr",
     "output_type": "stream",
     "text": [
      "  8%|██████▋                                                                            | 2/25 [00:01<00:13,  1.73it/s]"
     ]
    },
    {
     "name": "stdout",
     "output_type": "stream",
     "text": [
      "Mean matrix: [array([-0.09676993,  0.16765601]) array([0.16443727, 0.33189349])\n",
      " array([0.38256951, 0.59753177, 0.48766249])]\n",
      "Train error 0.37260887572851564\n"
     ]
    },
    {
     "name": "stderr",
     "output_type": "stream",
     "text": [
      " 12%|█████████▉                                                                         | 3/25 [00:01<00:14,  1.56it/s]"
     ]
    },
    {
     "name": "stdout",
     "output_type": "stream",
     "text": [
      "Mean matrix: [array([-0.01025867,  0.18484306]) array([0.22780773, 0.39437714])\n",
      " array([0.71209869, 0.74387161, 0.73529863])]\n",
      "Train error 0.314771712944906\n"
     ]
    },
    {
     "name": "stderr",
     "output_type": "stream",
     "text": [
      " 16%|█████████████▎                                                                     | 4/25 [00:02<00:14,  1.41it/s]"
     ]
    },
    {
     "name": "stdout",
     "output_type": "stream",
     "text": [
      "Mean matrix: [array([0.04079311, 0.25237837]) array([0.32092155, 0.6261954 ])\n",
      " array([0.96934754, 0.95484347, 1.00181078])]\n",
      "Train error 0.21123011332344\n"
     ]
    },
    {
     "name": "stderr",
     "output_type": "stream",
     "text": [
      " 20%|████████████████▌                                                                  | 5/25 [00:03<00:15,  1.28it/s]"
     ]
    },
    {
     "name": "stdout",
     "output_type": "stream",
     "text": [
      "Mean matrix: [array([0.00214575, 0.22308941]) array([0.50380525, 0.88590939])\n",
      " array([1.16262155, 1.23489766, 1.23188138])]\n",
      "Train error 0.15409652266780285\n"
     ]
    },
    {
     "name": "stderr",
     "output_type": "stream",
     "text": [
      " 24%|███████████████████▉                                                               | 6/25 [00:04<00:16,  1.17it/s]"
     ]
    },
    {
     "name": "stdout",
     "output_type": "stream",
     "text": [
      "Mean matrix: [array([0.08337371, 0.21770686]) array([0.70931142, 1.08012701])\n",
      " array([1.42202987, 1.47063765, 1.41752701])]\n",
      "Train error 0.10081297267422683\n"
     ]
    },
    {
     "name": "stderr",
     "output_type": "stream",
     "text": [
      " 28%|███████████████████████▏                                                           | 7/25 [00:05<00:16,  1.07it/s]"
     ]
    },
    {
     "name": "stdout",
     "output_type": "stream",
     "text": [
      "Mean matrix: [array([0.07318405, 0.21443011]) array([0.80586951, 1.25768288])\n",
      " array([1.67851436, 1.76485314, 1.66956936])]\n",
      "Train error 0.06552274293485727\n"
     ]
    },
    {
     "name": "stderr",
     "output_type": "stream",
     "text": [
      " 32%|██████████████████████████▌                                                        | 8/25 [00:06<00:17,  1.01s/it]"
     ]
    },
    {
     "name": "stdout",
     "output_type": "stream",
     "text": [
      "Mean matrix: [array([0.10806809, 0.12593335]) array([0.90733141, 1.44199356])\n",
      " array([1.99590388, 1.9338097 , 1.85748199])]\n",
      "Train error 0.0487942531677032\n"
     ]
    },
    {
     "name": "stderr",
     "output_type": "stream",
     "text": [
      " 36%|█████████████████████████████▉                                                     | 9/25 [00:08<00:17,  1.09s/it]"
     ]
    },
    {
     "name": "stdout",
     "output_type": "stream",
     "text": [
      "Mean matrix: [array([0.15107746, 0.08259708]) array([1.10881937, 1.53675397])\n",
      " array([2.28439324, 2.20339454, 2.10364378])]\n",
      "Train error 0.02650754325479298\n"
     ]
    },
    {
     "name": "stderr",
     "output_type": "stream",
     "text": [
      " 40%|████████████████████████████████▊                                                 | 10/25 [00:09<00:17,  1.17s/it]"
     ]
    },
    {
     "name": "stdout",
     "output_type": "stream",
     "text": [
      "Mean matrix: [array([0.10646956, 0.05944736]) array([1.26313296, 1.75171436])\n",
      " array([2.59083939, 2.4574234 , 2.36971628])]\n",
      "Train error 0.015707458389846562\n"
     ]
    },
    {
     "name": "stderr",
     "output_type": "stream",
     "text": [
      " 44%|████████████████████████████████████                                              | 11/25 [00:10<00:17,  1.26s/it]"
     ]
    },
    {
     "name": "stdout",
     "output_type": "stream",
     "text": [
      "Mean matrix: [array([0.05396623, 0.11499176]) array([1.38691017, 1.81573509])\n",
      " array([2.78541023, 2.70076617, 2.70434597])]\n",
      "Train error 0.010978960361900165\n"
     ]
    },
    {
     "name": "stderr",
     "output_type": "stream",
     "text": [
      " 48%|███████████████████████████████████████▎                                          | 12/25 [00:12<00:18,  1.40s/it]"
     ]
    },
    {
     "name": "stdout",
     "output_type": "stream",
     "text": [
      "Mean matrix: [array([0.0222434 , 0.09615498]) array([1.47654625, 2.02390202])\n",
      " array([3.00633001, 2.91993502, 2.98713307])]\n",
      "Train error 0.006308997094698521\n"
     ]
    },
    {
     "name": "stderr",
     "output_type": "stream",
     "text": [
      " 52%|██████████████████████████████████████████▋                                       | 13/25 [00:14<00:17,  1.49s/it]"
     ]
    },
    {
     "name": "stdout",
     "output_type": "stream",
     "text": [
      "Mean matrix: [array([0.03703628, 0.09079475]) array([1.57188639, 2.14860643])\n",
      " array([3.34179401, 3.16365724, 3.18876031])]\n",
      "Train error 0.004031186991332044\n"
     ]
    },
    {
     "name": "stderr",
     "output_type": "stream",
     "text": [
      " 56%|█████████████████████████████████████████████▉                                    | 14/25 [00:16<00:17,  1.57s/it]"
     ]
    },
    {
     "name": "stdout",
     "output_type": "stream",
     "text": [
      "Mean matrix: [array([0.07573561, 0.12703339]) array([1.72025356, 2.21283646])\n",
      " array([3.60667788, 3.3897912 , 3.4013541 ])]\n",
      "Train error 0.0025927249932379244\n"
     ]
    },
    {
     "name": "stderr",
     "output_type": "stream",
     "text": [
      " 60%|█████████████████████████████████████████████████▏                                | 15/25 [00:18<00:17,  1.71s/it]"
     ]
    },
    {
     "name": "stdout",
     "output_type": "stream",
     "text": [
      "Mean matrix: [array([0.07228413, 0.1596819 ]) array([1.74498821, 2.3363071 ])\n",
      " array([3.82249267, 3.72031976, 3.62436135])]\n",
      "Train error 0.0015073993388869784\n"
     ]
    },
    {
     "name": "stderr",
     "output_type": "stream",
     "text": [
      " 64%|████████████████████████████████████████████████████▍                             | 16/25 [00:20<00:16,  1.86s/it]"
     ]
    },
    {
     "name": "stdout",
     "output_type": "stream",
     "text": [
      "Mean matrix: [array([0.02908478, 0.09114074]) array([1.9191855 , 2.41207236])\n",
      " array([3.9416167 , 3.88887783, 3.87494998])]\n",
      "Train error 0.0009982128448251294\n"
     ]
    },
    {
     "name": "stderr",
     "output_type": "stream",
     "text": [
      " 68%|███████████████████████████████████████████████████████▊                          | 17/25 [00:22<00:15,  1.90s/it]"
     ]
    },
    {
     "name": "stdout",
     "output_type": "stream",
     "text": [
      "Mean matrix: [array([0.04930022, 0.02447629]) array([2.04168546, 2.61068411])\n",
      " array([4.14572356, 4.0527744 , 4.09740761])]\n",
      "Train error 0.0006706912919334515\n"
     ]
    },
    {
     "name": "stderr",
     "output_type": "stream",
     "text": [
      " 72%|███████████████████████████████████████████████████████████                       | 18/25 [00:24<00:13,  1.96s/it]"
     ]
    },
    {
     "name": "stdout",
     "output_type": "stream",
     "text": [
      "Mean matrix: [array([ 0.09463979, -0.01274568]) array([2.18997425, 2.67743404])\n",
      " array([4.35260872, 4.24810764, 4.3175142 ])]\n",
      "Train error 0.0003985069200882899\n"
     ]
    },
    {
     "name": "stderr",
     "output_type": "stream",
     "text": [
      " 76%|██████████████████████████████████████████████████████████████▎                   | 19/25 [00:26<00:12,  2.03s/it]"
     ]
    },
    {
     "name": "stdout",
     "output_type": "stream",
     "text": [
      "Mean matrix: [array([ 0.06373584, -0.02261838]) array([2.41996732, 2.78688924])\n",
      " array([4.49631281, 4.48071912, 4.49588884])]\n",
      "Train error 0.0002858476584129883\n"
     ]
    },
    {
     "name": "stderr",
     "output_type": "stream",
     "text": [
      " 80%|█████████████████████████████████████████████████████████████████▌                | 20/25 [00:28<00:10,  2.11s/it]"
     ]
    },
    {
     "name": "stdout",
     "output_type": "stream",
     "text": [
      "Mean matrix: [array([ 0.03103476, -0.0207028 ]) array([2.50631807, 2.90325005])\n",
      " array([4.76331849, 4.67373786, 4.69730056])]\n",
      "Train error 0.00016299038715759798\n"
     ]
    },
    {
     "name": "stderr",
     "output_type": "stream",
     "text": [
      " 84%|████████████████████████████████████████████████████████████████████▉             | 21/25 [00:31<00:09,  2.25s/it]"
     ]
    },
    {
     "name": "stdout",
     "output_type": "stream",
     "text": [
      "Mean matrix: [array([ 0.04651026, -0.04427276]) array([2.63847696, 3.00789347])\n",
      " array([4.96087692, 4.89471409, 4.88085811])]\n",
      "Train error 0.00010719859885295685\n"
     ]
    },
    {
     "name": "stderr",
     "output_type": "stream",
     "text": [
      " 88%|████████████████████████████████████████████████████████████████████████▏         | 22/25 [00:34<00:07,  2.42s/it]"
     ]
    },
    {
     "name": "stdout",
     "output_type": "stream",
     "text": [
      "Mean matrix: [array([0.0002831 , 0.00547721]) array([2.77685701, 3.06502879])\n",
      " array([5.12605462, 5.17155632, 5.12630472])]\n",
      "Train error 6.814318121908974e-05\n"
     ]
    },
    {
     "name": "stderr",
     "output_type": "stream",
     "text": [
      " 92%|███████████████████████████████████████████████████████████████████████████▍      | 23/25 [00:36<00:04,  2.49s/it]"
     ]
    },
    {
     "name": "stdout",
     "output_type": "stream",
     "text": [
      "Mean matrix: [array([-0.02127747,  0.03907797]) array([2.86400418, 3.18786123])\n",
      " array([5.34873157, 5.33619138, 5.31630372])]\n",
      "Train error 5.074073476722919e-05\n"
     ]
    },
    {
     "name": "stderr",
     "output_type": "stream",
     "text": [
      " 96%|██████████████████████████████████████████████████████████████████████████████▋   | 24/25 [00:39<00:02,  2.58s/it]"
     ]
    },
    {
     "name": "stdout",
     "output_type": "stream",
     "text": [
      "Mean matrix: [array([-0.05847831,  0.08315358]) array([3.00156136, 3.32872535])\n",
      " array([5.53023918, 5.53136368, 5.5166216 ])]\n",
      "Train error 3.0011097031299463e-05\n"
     ]
    },
    {
     "name": "stderr",
     "output_type": "stream",
     "text": [
      "100%|██████████████████████████████████████████████████████████████████████████████████| 25/25 [00:42<00:00,  1.71s/it]"
     ]
    },
    {
     "name": "stdout",
     "output_type": "stream",
     "text": [
      "Mean matrix: [array([-0.11231091,  0.10862136]) array([3.12407987, 3.40272605])\n",
      " array([5.73112851, 5.68342061, 5.73829419])]\n",
      "Train error 2.0979854800343125e-05\n"
     ]
    },
    {
     "name": "stderr",
     "output_type": "stream",
     "text": [
      "\n"
     ]
    }
   ],
   "source": [
    "import pandas as pd\n",
    "from sklearn.preprocessing import StandardScaler\n",
    "path = \"D://datasets//iris//iris.xlsx\"\n",
    "data = pd.read_excel(path)\n",
    "y = data['label'].to_numpy()\n",
    "X = data.drop(['label'],axis=1).to_numpy()\n",
    "\n",
    "gamma = 0.5\n",
    "nj_list = np.arange(100,600,20)\n",
    "rho = 0.15\n",
    "n_features = 4\n",
    "n_output = 3\n",
    "scaler = StandardScaler()\n",
    "X_new = scaler.fit_transform(X)\n",
    "y = one_hot(y,n_output)\n",
    "layer_wise_neurons = [n_features,2,2,n_output]\n",
    "mu_mat = []\n",
    "sigma_mat = []\n",
    "for i in range(len(layer_wise_neurons)-1):\n",
    "    mu_mat.append(np.zeros(layer_wise_neurons[i+1]))\n",
    "    sigma_mat.append(np.ones(layer_wise_neurons[i+1]))\n",
    "mu_mat = np.array(mu_mat)\n",
    "sigma_mat = np.array(sigma_mat)\n",
    "#print(mu_mat)\n",
    "model2 = RBNN(len(layer_wise_neurons),mu_mat,nj_list,rho,layer_wise_neurons,sigma_mat)\n",
    "err_plot,acc_plot,mu_mat,sigma_mat = model2.train(X_new,y)\n"
   ]
  },
  {
   "cell_type": "code",
   "execution_count": 111,
   "metadata": {},
   "outputs": [
    {
     "data": {
      "image/png": "[encoded data removed]",
      "text/plain": [
       "<Figure size 432x288 with 1 Axes>"
      ]
     },
     "metadata": {
      "needs_background": "light"
     },
     "output_type": "display_data"
    }
   ],
   "source": [
    "plt.xlabel('Epochs')\n",
    "plt.ylabel('Error')\n",
    "plt.title('Epochs vs Error plot')\n",
    "plt.plot(err_plot)\n",
    "plt.savefig('error_plot_iris.pdf')\n",
    "plt.show()"
   ]
  },
  {
   "cell_type": "code",
   "execution_count": 110,
   "metadata": {},
   "outputs": [],
   "source": [
    "loss_dictionary={'RBNN':err_plot}\n",
    "df = pd.DataFrame(loss_dictionary)\n",
    "df.to_excel('Loss_Restricted_BNN.xlsx')"
   ]
  },
  {
   "cell_type": "code",
   "execution_count": 103,
   "metadata": {},
   "outputs": [
    {
     "name": "stdout",
     "output_type": "stream",
     "text": [
      "Actual input: [0.55333328 0.56925129 0.53529583 0.52764485]\n",
      "weights: by : {0: array([[ 0.97980011, -0.81375874],\n",
      "       [ 1.49383526,  0.92672564],\n",
      "       [-0.83123624,  0.3138375 ],\n",
      "       [-0.1493553 , -0.0987939 ]]), 1: array([[2.41846885, 1.09350574],\n",
      "       [1.59273732, 1.20586374]]), 2: array([[2.51140224, 4.19695374, 1.13243403],\n",
      "       [1.91268587, 3.38232285, 1.93786031]])}\n",
      "input: [0.55333328 0.56925129 0.53529583 0.52764485]\n",
      "Actual output:1 and predicted ouput:1\n"
     ]
    }
   ],
   "source": [
    "print(\"Actual input:\",X_new[56])\n",
    "model2.predict(X_new[56],y[56])"
   ]
  }
 ],
 "metadata": {
  "kernelspec": {
   "display_name": "Python 3",
   "language": "python",
   "name": "python3"
  },
  "language_info": {
   "codemirror_mode": {
    "name": "ipython",
    "version": 3
   },
   "file_extension": ".py",
   "mimetype": "text/x-python",
   "name": "python",
   "nbconvert_exporter": "python",
   "pygments_lexer": "ipython3",
   "version": "3.6.8"
  }
 },
 "nbformat": 4,
 "nbformat_minor": 2
}
