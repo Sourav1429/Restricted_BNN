{
  "nbformat": 4,
  "nbformat_minor": 0,
  "metadata": {
    "colab": {
      "provenance": [],
      "authorship_tag": "ABX9TyO3/s9MKJLkfgpm7UlOTkK7",
      "include_colab_link": true
    },
    "kernelspec": {
      "name": "python3",
      "display_name": "Python 3"
    },
    "language_info": {
      "name": "python"
    }
  },
  "cells": [
    {
      "cell_type": "markdown",
      "metadata": {
        "id": "view-in-github",
        "colab_type": "text"
      },
      "source": [
        "<a href=\"https://colab.research.google.com/github/Sourav1429/Restricted_BNN/blob/main/FFNN.ipynb\" target=\"_parent\"><img src=\"https://colab.research.google.com/assets/colab-badge.svg\" alt=\"Open In Colab\"/></a>"
      ]
    },
    {
      "cell_type": "code",
      "execution_count": 17,
      "metadata": {
        "id": "TwstOC1NjDi1"
      },
      "outputs": [],
      "source": [
        "import tensorflow as tf\n",
        "\n",
        "import pandas as pd\n",
        "import numpy as np\n",
        "from sklearn.model_selection import train_test_split\n",
        "from sklearn.preprocessing import MinMaxScaler\n",
        "from tensorflow import keras\n",
        "import tensorflow_probability as tfp\n",
        "from tensorflow.keras import layers\n",
        "from tensorflow.keras.optimizers import Adam\n",
        "import matplotlib.pyplot as plt\n",
        "from sklearn.metrics import accuracy_score, confusion_matrix\n",
        "\n",
        "# Load the data\n",
        "data = pd.read_excel('/content/Pulsar_reduced.xlsx')\n",
        "\n",
        "# Assuming 'target' is the column containing the labels\n",
        "X = data.drop('label', axis=1)\n",
        "y = data['label']\n",
        "\n",
        "# Handling missing values by filling with the mean\n",
        "X = X.fillna(X.mean())\n",
        "\n",
        "# Split the data into training, testing, and validation sets\n",
        "# 80% for training, 10% for validation, and 10% for testing\n",
        "X_train, X_temp, y_train, y_temp = train_test_split(X, y, test_size=0.2, random_state=42)\n",
        "X_validation, X_test, y_validation, y_test = train_test_split(X_temp, y_temp, test_size=0.5, random_state=42)\n",
        "\n",
        "# Scale the features using MinMaxScaler\n",
        "scaler = MinMaxScaler()\n",
        "X_train_scaled = scaler.fit_transform(X_train)\n",
        "X_validation_scaled = scaler.transform(X_validation)\n",
        "X_test_scaled = scaler.transform(X_test)\n",
        "\n",
        "# Define the prior weight distribution as Normal of mean=0 and stddev=1.\n",
        "# Note that, in this example, the we prior distribution is not trainable,\n",
        "# as we fix its parameters.\n",
        "def prior(kernel_size, bias_size, dtype=None):\n",
        "    n = kernel_size + bias_size\n",
        "    prior_model = keras.Sequential([\n",
        "        tfp.layers.DistributionLambda(\n",
        "            lambda t: tfp.distributions.MultivariateNormalDiag(\n",
        "                loc=tf.zeros(n), scale_diag=tf.ones(n)\n",
        "            )\n",
        "        )\n",
        "    ])\n",
        "    return prior_model\n",
        "\n",
        "# Define variational posterior weight distribution as multivariate Gaussian.\n",
        "# Note that the learnable parameters for this distribution are the means,\n",
        "# variances\n",
        "def posterior(kernel_size, bias_size, dtype=None):\n",
        "    n = kernel_size + bias_size\n",
        "    posterior_model = keras.Sequential([\n",
        "        tfp.layers.VariableLayer(\n",
        "            tfp.layers.MultivariateNormalTriL.params_size(n), dtype=dtype\n",
        "        ),\n",
        "        tfp.layers.MultivariateNormalTriL(n),\n",
        "    ])\n",
        "    return posterior_model\n",
        "\n",
        "def create_ffnn_model(train_size):\n",
        "    model = keras.Sequential()\n",
        "    model.add(layers.InputLayer(input_shape=X_train_scaled.shape[1]))\n",
        "\n",
        "    # Create hidden layers with weight uncertainty using the DenseVariational layer.\n",
        "    for units in [2,2]:  #  number of units in hidden layers\n",
        "        model.add(tfp.layers.DenseVariational(\n",
        "            units=units,\n",
        "            make_prior_fn=prior,\n",
        "            make_posterior_fn=posterior,\n",
        "            kl_weight=1 / train_size,\n",
        "            activation='relu',\n",
        "        ))\n",
        "\n",
        "    model.add(layers.Dense(units=1, activation='sigmoid'))\n",
        "    return model\n",
        "\n",
        "ffnn_model = create_ffnn_model(train_size=len(X_train_scaled))\n",
        "\n",
        "#  model with the Adam optimizer and binary cross-entropy loss\n",
        "ffnn_model.compile(optimizer=Adam(learning_rate=0.001), loss='binary_crossentropy', metrics=['accuracy'])\n",
        "\n",
        "# training history\n",
        "history = ffnn_model.fit(X_train_scaled, y_train, validation_data=(X_validation_scaled, y_validation),\n",
        "                         epochs=10, batch_size=32, verbose=0)\n"
      ]
    },
    {
      "cell_type": "code",
      "source": [
        "df = pd.DataFrame({'FFNN':np.array(history.history['loss'])})\n",
        "df.to_excel('FFNN_pulsar.xlsx')"
      ],
      "metadata": {
        "id": "BJUo_Mke-GZo"
      },
      "execution_count": 18,
      "outputs": []
    },
    {
      "cell_type": "code",
      "source": [
        "print(\"Accuracies:\",history.history['accuracy'])"
      ],
      "metadata": {
        "colab": {
          "base_uri": "https://localhost:8080/"
        },
        "id": "lsFLE5cJ_XLV",
        "outputId": "e80dbe9a-9afc-4e1a-f64d-8557fbef6523"
      },
      "execution_count": 19,
      "outputs": [
        {
          "output_type": "stream",
          "name": "stdout",
          "text": [
            "Accuracies: [0.6078627109527588, 0.8058272004127502, 0.8715825080871582, 0.9046098589897156, 0.9050089716911316, 0.9076032638549805, 0.9076032638549805, 0.9076032638549805, 0.9076032638549805, 0.9076032638549805]\n"
          ]
        }
      ]
    },
    {
      "cell_type": "code",
      "source": [],
      "metadata": {
        "id": "sMtbKTG9xZ3x"
      },
      "execution_count": null,
      "outputs": []
    }
  ]
}